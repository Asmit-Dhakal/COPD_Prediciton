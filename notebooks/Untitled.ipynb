{
 "cells": [
  {
   "cell_type": "code",
   "execution_count": 21,
   "id": "0a9f687e-edda-44ac-a506-e6f34cbac6fe",
   "metadata": {},
   "outputs": [],
   "source": [
    "\n",
    "import pandas as pd\n",
    "from sklearn.model_selection import train_test_split\n",
    "from sklearn.linear_model import LogisticRegression\n",
    "from sklearn.ensemble import RandomForestClassifier, GradientBoostingClassifier\n",
    "from sklearn.svm import SVC\n",
    "from sklearn.metrics import accuracy_score, confusion_matrix, classification_report\n",
    "import joblib\n"
   ]
  },
  {
   "cell_type": "code",
   "execution_count": 23,
   "id": "37b4ea4b-5d54-4715-9f0e-f587cfc2beab",
   "metadata": {},
   "outputs": [
    {
     "name": "stdout",
     "output_type": "stream",
     "text": [
      "Training set shape: (1260, 19), Test set shape: (540, 19)\n"
     ]
    }
   ],
   "source": [
    "# Load preprocessed data from the data folder\n",
    "data_path = '../data/copd_preprocessed.csv'  # Path to the preprocessed data file\n",
    "df_encoded = pd.read_csv(data_path)\n",
    "\n",
    "# Separate features and target variable\n",
    "X = df_encoded.drop('COPD_Diagnosis', axis=1)\n",
    "y = df_encoded['COPD_Diagnosis']\n",
    "\n",
    "# Train-test split\n",
    "X_train, X_test, y_train, y_test = train_test_split(X, y, test_size=0.3, random_state=42)\n",
    "\n",
    "# Print the shape of training and testing sets to verify data\n",
    "print(f\"Training set shape: {X_train.shape}, Test set shape: {X_test.shape}\")\n"
   ]
  },
  {
   "cell_type": "code",
   "execution_count": 25,
   "id": "f2dd7264-3d3e-4ee4-914f-7db5390ff1ad",
   "metadata": {},
   "outputs": [],
   "source": [
    "# Dictionary to store models and their names\n",
    "models = {\n",
    "    \"Logistic Regression\": LogisticRegression(),\n",
    "    \"Random Forest\": RandomForestClassifier(random_state=42),\n",
    "    \"SVM\": SVC(),\n",
    "    \"Gradient Boosting\": GradientBoostingClassifier(random_state=42)\n",
    "}\n",
    "\n"
   ]
  },
  {
   "cell_type": "code",
   "execution_count": 27,
   "id": "a6b62e05-f930-4099-8f94-e640ac24a823",
   "metadata": {},
   "outputs": [
    {
     "name": "stdout",
     "output_type": "stream",
     "text": [
      "\n",
      "Training and evaluating model: Logistic Regression\n",
      "Logistic Regression Accuracy: 0.9814814814814815\n",
      "Logistic Regression Confusion Matrix:\n",
      "[[355   4]\n",
      " [  6 175]]\n",
      "Logistic Regression Classification Report:\n",
      "              precision    recall  f1-score   support\n",
      "\n",
      "           0       0.98      0.99      0.99       359\n",
      "           1       0.98      0.97      0.97       181\n",
      "\n",
      "    accuracy                           0.98       540\n",
      "   macro avg       0.98      0.98      0.98       540\n",
      "weighted avg       0.98      0.98      0.98       540\n",
      "\n",
      "Logistic Regression model saved as ../models/logistic_regression_model.pkl\n",
      "\n",
      "Training and evaluating model: Random Forest\n",
      "Random Forest Accuracy: 0.9925925925925926\n",
      "Random Forest Confusion Matrix:\n",
      "[[359   0]\n",
      " [  4 177]]\n",
      "Random Forest Classification Report:\n",
      "              precision    recall  f1-score   support\n",
      "\n",
      "           0       0.99      1.00      0.99       359\n",
      "           1       1.00      0.98      0.99       181\n",
      "\n",
      "    accuracy                           0.99       540\n",
      "   macro avg       0.99      0.99      0.99       540\n",
      "weighted avg       0.99      0.99      0.99       540\n",
      "\n",
      "Random Forest model saved as ../models/random_forest_model.pkl\n",
      "\n",
      "Training and evaluating model: SVM\n",
      "SVM Accuracy: 0.9944444444444445\n",
      "SVM Confusion Matrix:\n",
      "[[359   0]\n",
      " [  3 178]]\n",
      "SVM Classification Report:\n",
      "              precision    recall  f1-score   support\n",
      "\n",
      "           0       0.99      1.00      1.00       359\n",
      "           1       1.00      0.98      0.99       181\n",
      "\n",
      "    accuracy                           0.99       540\n",
      "   macro avg       1.00      0.99      0.99       540\n",
      "weighted avg       0.99      0.99      0.99       540\n",
      "\n",
      "SVM model saved as ../models/svm_model.pkl\n",
      "\n",
      "Training and evaluating model: Gradient Boosting\n",
      "Gradient Boosting Accuracy: 0.9981481481481481\n",
      "Gradient Boosting Confusion Matrix:\n",
      "[[359   0]\n",
      " [  1 180]]\n",
      "Gradient Boosting Classification Report:\n",
      "              precision    recall  f1-score   support\n",
      "\n",
      "           0       1.00      1.00      1.00       359\n",
      "           1       1.00      0.99      1.00       181\n",
      "\n",
      "    accuracy                           1.00       540\n",
      "   macro avg       1.00      1.00      1.00       540\n",
      "weighted avg       1.00      1.00      1.00       540\n",
      "\n",
      "Gradient Boosting model saved as ../models/gradient_boosting_model.pkl\n"
     ]
    }
   ],
   "source": [
    "# Train, evaluate, and save all models\n",
    "for model_name, model in models.items():\n",
    "    print(f\"\\nTraining and evaluating model: {model_name}\")\n",
    "    \n",
    "    # Train the model\n",
    "    model.fit(X_train, y_train)\n",
    "    \n",
    "    # Make predictions\n",
    "    y_pred = model.predict(X_test)\n",
    "    \n",
    "    # Evaluate the model\n",
    "    accuracy = accuracy_score(y_test, y_pred)\n",
    "    print(f\"{model_name} Accuracy: {accuracy}\")\n",
    "    \n",
    "    print(f\"{model_name} Confusion Matrix:\")\n",
    "    print(confusion_matrix(y_test, y_pred))\n",
    "    \n",
    "    print(f\"{model_name} Classification Report:\")\n",
    "    print(classification_report(y_test, y_pred))\n",
    "    \n",
    "    # Save the model to a .pkl file\n",
    "    model_filename = f\"../models/{model_name.replace(' ', '_').lower()}_model.pkl\"\n",
    "    joblib.dump(model, model_filename)\n",
    "    print(f\"{model_name} model saved as {model_filename}\")\n",
    "\n"
   ]
  },
  {
   "cell_type": "code",
   "execution_count": null,
   "id": "6595f11a-98c1-4046-b29c-d191199d661d",
   "metadata": {},
   "outputs": [],
   "source": []
  },
  {
   "cell_type": "code",
   "execution_count": null,
   "id": "6316dc74-ec1e-4d85-bd43-dc3fd4cf84e3",
   "metadata": {},
   "outputs": [],
   "source": []
  }
 ],
 "metadata": {
  "kernelspec": {
   "display_name": "Python 3 (ipykernel)",
   "language": "python",
   "name": "python3"
  },
  "language_info": {
   "codemirror_mode": {
    "name": "ipython",
    "version": 3
   },
   "file_extension": ".py",
   "mimetype": "text/x-python",
   "name": "python",
   "nbconvert_exporter": "python",
   "pygments_lexer": "ipython3",
   "version": "3.12.4"
  }
 },
 "nbformat": 4,
 "nbformat_minor": 5
}
