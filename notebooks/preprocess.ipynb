{
 "cells": [
  {
   "cell_type": "code",
   "execution_count": 1,
   "id": "69a65f14-0a7b-431a-ae49-67ae00c6084d",
   "metadata": {},
   "outputs": [],
   "source": [
    "import pandas as pd\n",
    "from sklearn.preprocessing import OneHotEncoder, StandardScaler\n",
    "from sklearn.model_selection import train_test_split"
   ]
  },
  {
   "cell_type": "code",
   "execution_count": 3,
   "id": "f574939a-e493-4193-9902-fcde7ad9fadf",
   "metadata": {},
   "outputs": [],
   "source": [
    "data_path = '../data/COPD_Data_Nepal.csv'\n",
    "df = pd.read_csv(data_path)"
   ]
  },
  {
   "cell_type": "code",
   "execution_count": 5,
   "id": "d93d2483-ad7f-4efe-b326-54c415283700",
   "metadata": {},
   "outputs": [
    {
     "ename": "TypeError",
     "evalue": "OneHotEncoder.__init__() got an unexpected keyword argument 'sparse'",
     "output_type": "error",
     "traceback": [
      "\u001b[0;31m---------------------------------------------------------------------------\u001b[0m",
      "\u001b[0;31mTypeError\u001b[0m                                 Traceback (most recent call last)",
      "Cell \u001b[0;32mIn[5], line 2\u001b[0m\n\u001b[1;32m      1\u001b[0m \u001b[38;5;66;03m# One-hot encoding for categorical variables\u001b[39;00m\n\u001b[0;32m----> 2\u001b[0m encoder \u001b[38;5;241m=\u001b[39m OneHotEncoder(drop\u001b[38;5;241m=\u001b[39m\u001b[38;5;124m'\u001b[39m\u001b[38;5;124mfirst\u001b[39m\u001b[38;5;124m'\u001b[39m, sparse\u001b[38;5;241m=\u001b[39m\u001b[38;5;28;01mFalse\u001b[39;00m)\n\u001b[1;32m      3\u001b[0m encoded_gender \u001b[38;5;241m=\u001b[39m encoder\u001b[38;5;241m.\u001b[39mfit_transform(df[[\u001b[38;5;124m'\u001b[39m\u001b[38;5;124mGender\u001b[39m\u001b[38;5;124m'\u001b[39m]])\n\u001b[1;32m      4\u001b[0m encoded_smoking \u001b[38;5;241m=\u001b[39m encoder\u001b[38;5;241m.\u001b[39mfit_transform(df[[\u001b[38;5;124m'\u001b[39m\u001b[38;5;124mSmoking_Status\u001b[39m\u001b[38;5;124m'\u001b[39m]])\n",
      "\u001b[0;31mTypeError\u001b[0m: OneHotEncoder.__init__() got an unexpected keyword argument 'sparse'"
     ]
    }
   ],
   "source": [
    "# One-hot encoding for categorical variables\n",
    "encoder = OneHotEncoder(drop='first', sparse=False)\n",
    "encoded_gender = encoder.fit_transform(df[['Gender']])\n",
    "encoded_smoking = encoder.fit_transform(df[['Smoking_Status']])\n",
    "encoded_location = encoder.fit_transform(df[['Location']])"
   ]
  },
  {
   "cell_type": "code",
   "execution_count": 31,
   "id": "3e8fc290-e627-44f7-af8d-4edb6d02a970",
   "metadata": {},
   "outputs": [],
   "source": [
    "# One-hot encoding for categorical variables\n",
    "gender_encoder = OneHotEncoder(drop='first', sparse_output=False)\n",
    "smoking_encoder = OneHotEncoder(drop='first', sparse_output=False)\n",
    "location_encoder = OneHotEncoder(drop='first', sparse_output=False)\n",
    "\n",
    "# Encode 'Gender', 'Smoking_Status', and 'Location'\n",
    "\n",
    "encoded_gender = encoder.fit_transform(df[['Gender']])\n",
    "encoded_smoking = encoder.fit_transform(df[['Smoking_Status']])\n",
    "encoded_location = encoder.fit_transform(df[['Location']])"
   ]
  },
  {
   "cell_type": "code",
   "execution_count": 33,
   "id": "c3da3258-28af-4782-b7b7-659e7c74d74e",
   "metadata": {},
   "outputs": [],
   "source": [
    "# Add encoded columns\n",
    "gender_columns = [f\"Gender_{cat}\" for cat in encoder.categories_[0][1:]]\n",
    "smoking_columns = [f\"Smoking_Status_{cat}\" for cat in encoder.categories_[0][1:]]\n",
    "location_columns = [f\"Location_{cat}\" for cat in encoder.categories_[0][1:]]"
   ]
  },
  {
   "cell_type": "code",
   "execution_count": 37,
   "id": "9122288a-714f-4242-8a3a-6e77be6325b3",
   "metadata": {},
   "outputs": [],
   "source": [
    "encoded_gender = gender_encoder.fit_transform(df[['Gender']])\n",
    "encoded_smoking = smoking_encoder.fit_transform(df[['Smoking_Status']])\n",
    "encoded_location = location_encoder.fit_transform(df[['Location']])"
   ]
  },
  {
   "cell_type": "code",
   "execution_count": 39,
   "id": "718900f1-1de7-464e-b2d1-e7b22afff8ea",
   "metadata": {},
   "outputs": [
    {
     "name": "stdout",
     "output_type": "stream",
     "text": [
      "Encoded Gender Shape: (1800, 1)\n",
      "Encoded Smoking Shape: (1800, 2)\n",
      "Encoded Location Shape: (1800, 9)\n",
      "Gender Categories: ['Female' 'Male']\n",
      "Smoking Categories: ['Current' 'Former' 'Never']\n",
      "Location Categories: ['Bhaktapur' 'Biratnagar' 'Butwal' 'Chitwan' 'Dharan' 'Hetauda'\n",
      " 'Kathmandu' 'Lalitpur' 'Nepalgunj' 'Pokhara']\n"
     ]
    }
   ],
   "source": [
    "# Step 2: Verify shapes to see how many columns were generated\n",
    "print(f\"Encoded Gender Shape: {encoded_gender.shape}\")\n",
    "print(f\"Encoded Smoking Shape: {encoded_smoking.shape}\")\n",
    "print(f\"Encoded Location Shape: {encoded_location.shape}\")\n",
    "\n",
    "# Step 3: Generate appropriate column names based on the actual number of categories\n",
    "# Check which categories are in each feature\n",
    "print(f\"Gender Categories: {gender_encoder.categories_[0]}\")\n",
    "print(f\"Smoking Categories: {smoking_encoder.categories_[0]}\")\n",
    "print(f\"Location Categories: {location_encoder.categories_[0]}\")"
   ]
  },
  {
   "cell_type": "code",
   "execution_count": 41,
   "id": "072ba633-2130-48d8-b342-a50f1789318a",
   "metadata": {
    "scrolled": true
   },
   "outputs": [],
   "source": [
    "# Assign column names based on the categories after dropping the first one\n",
    "gender_columns = [f\"Gender_{cat}\" for cat in gender_encoder.categories_[0][1:]]  # Skip the first category\n",
    "smoking_columns = [f\"Smoking_Status_{cat}\" for cat in smoking_encoder.categories_[0][1:]]  # Skip the first category\n",
    "location_columns = [f\"Location_{cat}\" for cat in location_encoder.categories_[0][1:]]  # Skip the first category"
   ]
  },
  {
   "cell_type": "code",
   "execution_count": 43,
   "id": "7ed1aa97-6edb-4c45-8ecb-403bb9317882",
   "metadata": {},
   "outputs": [],
   "source": [
    "# Drop original categorical columns and concatenate the one-hot encoded columns\n",
    "df_encoded = pd.concat([df.drop(['Gender', 'Smoking_Status', 'Location'], axis=1),\n",
    "                        pd.DataFrame(encoded_gender, columns=gender_columns),\n",
    "                        pd.DataFrame(encoded_smoking, columns=smoking_columns),\n",
    "                        pd.DataFrame(encoded_location, columns=location_columns)], axis=1)"
   ]
  },
  {
   "cell_type": "code",
   "execution_count": 45,
   "id": "0d3e03b6-6f5a-4ae0-b5c3-bc8781f42485",
   "metadata": {},
   "outputs": [],
   "source": [
    "# Standardize numerical features\n",
    "scaler = StandardScaler()\n",
    "scaled_columns = ['Age', 'BMI', 'Air_Pollution_Level']\n",
    "df_encoded[scaled_columns] = scaler.fit_transform(df_encoded[scaled_columns])"
   ]
  },
  {
   "cell_type": "code",
   "execution_count": 47,
   "id": "c52583bf-4697-4faa-b483-c17a712ff0c0",
   "metadata": {},
   "outputs": [],
   "source": [
    "#Save preprocessed data (optional)\n",
    "df_encoded.to_csv('../data/copd_preprocessed.csv', index=False)\n"
   ]
  },
  {
   "cell_type": "code",
   "execution_count": 49,
   "id": "9b1284bd-c230-43fc-b1b9-0d4ebba26c5c",
   "metadata": {},
   "outputs": [],
   "source": [
    "# Train-test split\n",
    "X = df_encoded.drop('COPD_Diagnosis', axis=1)\n",
    "y = df_encoded['COPD_Diagnosis']\n",
    "X_train, X_test, y_train, y_test = train_test_split(X, y, test_size=0.3, random_state=42)\n"
   ]
  },
  {
   "cell_type": "code",
   "execution_count": 53,
   "id": "12bf0d55-7bca-4411-b231-fac011560e65",
   "metadata": {},
   "outputs": [
    {
     "name": "stdout",
     "output_type": "stream",
     "text": [
      "Training set shape: (1260, 19), Test set shape: (540, 19)\n"
     ]
    }
   ],
   "source": [
    "# Print final shape of training and test sets\n",
    "print(f\"Training set shape: {X_train.shape}, Test set shape: {X_test.shape}\")"
   ]
  },
  {
   "cell_type": "code",
   "execution_count": null,
   "id": "e1754cd8-95ee-47ca-bfd3-0e5f6992a491",
   "metadata": {},
   "outputs": [],
   "source": []
  }
 ],
 "metadata": {
  "kernelspec": {
   "display_name": "Python 3 (ipykernel)",
   "language": "python",
   "name": "python3"
  },
  "language_info": {
   "codemirror_mode": {
    "name": "ipython",
    "version": 3
   },
   "file_extension": ".py",
   "mimetype": "text/x-python",
   "name": "python",
   "nbconvert_exporter": "python",
   "pygments_lexer": "ipython3",
   "version": "3.12.4"
  }
 },
 "nbformat": 4,
 "nbformat_minor": 5
}
